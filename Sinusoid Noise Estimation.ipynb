{
 "cells": [
  {
   "cell_type": "markdown",
   "id": "b7897095",
   "metadata": {},
   "source": [
    "# Estimation of a Sinusoidal Signal with Noise"
   ]
  },
  {
   "cell_type": "markdown",
   "id": "7ef81992",
   "metadata": {},
   "source": [
    "### Estimación de una señal sinusoidal con ruido con el modelo de un polinomio de orden 5"
   ]
  },
  {
   "cell_type": "code",
   "execution_count": 1,
   "id": "220879e2",
   "metadata": {},
   "outputs": [],
   "source": [
    "import numpy as np\n",
    "import matplotlib.pyplot as plt\n",
    "\n",
    "N = 20\n",
    "A = 10\n",
    "f0 = 1/N\n",
    "phi = np.pi/4\n",
    "sigma = 1\n",
    "n = np.arange(N).reshape(-1,1)"
   ]
  },
  {
   "cell_type": "markdown",
   "id": "fdbfdd0b",
   "metadata": {},
   "source": [
    "### Se genera la matriz H"
   ]
  },
  {
   "cell_type": "code",
   "execution_count": 2,
   "id": "b7778515",
   "metadata": {},
   "outputs": [
    {
     "name": "stdout",
     "output_type": "stream",
     "text": [
      "[[      1       0       0       0       0       0]\n",
      " [      1       1       1       1       1       1]\n",
      " [      1       2       4       8      16      32]\n",
      " [      1       3       9      27      81     243]\n",
      " [      1       4      16      64     256    1024]\n",
      " [      1       5      25     125     625    3125]\n",
      " [      1       6      36     216    1296    7776]\n",
      " [      1       7      49     343    2401   16807]\n",
      " [      1       8      64     512    4096   32768]\n",
      " [      1       9      81     729    6561   59049]\n",
      " [      1      10     100    1000   10000  100000]\n",
      " [      1      11     121    1331   14641  161051]\n",
      " [      1      12     144    1728   20736  248832]\n",
      " [      1      13     169    2197   28561  371293]\n",
      " [      1      14     196    2744   38416  537824]\n",
      " [      1      15     225    3375   50625  759375]\n",
      " [      1      16     256    4096   65536 1048576]\n",
      " [      1      17     289    4913   83521 1419857]\n",
      " [      1      18     324    5832  104976 1889568]\n",
      " [      1      19     361    6859  130321 2476099]]\n",
      "(20, 6)\n"
     ]
    }
   ],
   "source": [
    "H = np.array([n**0, n**1, n**2, n**3, n**4, n**5])\n",
    "H = H.reshape((6, 20))\n",
    "H = np.transpose(H)\n",
    "\n",
    "print(H)\n",
    "print(H.shape)"
   ]
  },
  {
   "cell_type": "markdown",
   "id": "c12289d9",
   "metadata": {},
   "source": [
    "#### Nota: Ya que en el enunciado del problema se define $s[n]=\\sum_{k=0}^{5}a_{k}n^{k}$ desde n=0 y k=0, para este caso se tiene:  $a_{k}n^{k}\\rightarrow s[0]=a_{0}0^{0}\\rightarrow0^{0}=?$, valor que matemáticamente es indefinido, se toma el valor estimado por python de $0^{0}=1$"
   ]
  },
  {
   "cell_type": "markdown",
   "id": "104df76d",
   "metadata": {},
   "source": [
    "### Se ejecuta el algoritmo 1000 veces y se estiman los valores de $a_{k}$"
   ]
  },
  {
   "cell_type": "code",
   "execution_count": 3,
   "id": "a51a579d",
   "metadata": {},
   "outputs": [],
   "source": [
    "K = 1000\n",
    "a_k_est = np.zeros([K,6])\n",
    "\n",
    "for i in range(K):\n",
    "    w_n = (sigma*np.random.randn(N)).reshape(-1,1)\n",
    "    x_n = A*np.cos(2*np.pi*f0*n + phi) + w_n\n",
    "    \n",
    "    a_k_est[i] = (np.linalg.inv((np.transpose(H) @ H))@ np.transpose(H) @ x_n).flatten()\n",
    "    "
   ]
  },
  {
   "cell_type": "markdown",
   "id": "f5fa44b0",
   "metadata": {},
   "source": [
    "## Estadísticas de $a_0$"
   ]
  },
  {
   "cell_type": "markdown",
   "id": "dd53a2d8",
   "metadata": {},
   "source": [
    "#### Media de $a_0$"
   ]
  },
  {
   "cell_type": "code",
   "execution_count": 4,
   "id": "d7a6d945",
   "metadata": {},
   "outputs": [
    {
     "data": {
      "text/plain": [
       "-6.496305737330858"
      ]
     },
     "execution_count": 4,
     "metadata": {},
     "output_type": "execute_result"
    }
   ],
   "source": [
    "np.mean(a_k_est[:,0])"
   ]
  },
  {
   "cell_type": "markdown",
   "id": "198c9d9d",
   "metadata": {},
   "source": [
    "#### Varianza de $a_0$"
   ]
  },
  {
   "cell_type": "code",
   "execution_count": 5,
   "id": "5fc057d4",
   "metadata": {},
   "outputs": [
    {
     "data": {
      "text/plain": [
       "0.19034533294701964"
      ]
     },
     "execution_count": 5,
     "metadata": {},
     "output_type": "execute_result"
    }
   ],
   "source": [
    "np.var(a_k_est[:,0])"
   ]
  },
  {
   "cell_type": "markdown",
   "id": "3a02d284",
   "metadata": {},
   "source": [
    "#### Histograma de $a_0$"
   ]
  },
  {
   "cell_type": "code",
   "execution_count": 6,
   "id": "50a09003",
   "metadata": {},
   "outputs": [
    {
     "data": {
      "image/png": "[encoded data removed]",
      "text/plain": [
       "<Figure size 432x288 with 1 Axes>"
      ]
     },
     "metadata": {
      "needs_background": "light"
     },
     "output_type": "display_data"
    }
   ],
   "source": [
    "xrange = [-9,-4]\n",
    "Nb = 100\n",
    "dx = (xrange[1] - xrange[0]) / (Nb-1)\n",
    "bins = xrange[0]-dx/2 + np.arange(Nb+1)*dx\n",
    "plt.figure()\n",
    "plt.hist(a_k_est[:,0],bins=bins,rwidth=0.8,align='mid',ec='k',density=True)\n",
    "plt.grid('on')"
   ]
  },
  {
   "cell_type": "markdown",
   "id": "ebdbcc5a",
   "metadata": {},
   "source": [
    "## Estadísticas de $a_1$"
   ]
  },
  {
   "cell_type": "markdown",
   "id": "c3cc0cbb",
   "metadata": {},
   "source": [
    "#### Media de $a_1$"
   ]
  },
  {
   "cell_type": "code",
   "execution_count": 7,
   "id": "c1c6cbef",
   "metadata": {},
   "outputs": [
    {
     "data": {
      "text/plain": [
       "0.8274265035513613"
      ]
     },
     "execution_count": 7,
     "metadata": {},
     "output_type": "execute_result"
    }
   ],
   "source": [
    "np.mean(a_k_est[:,1])"
   ]
  },
  {
   "cell_type": "markdown",
   "id": "038e688f",
   "metadata": {},
   "source": [
    "#### Varianza de $a_1$"
   ]
  },
  {
   "cell_type": "code",
   "execution_count": 8,
   "id": "64fe7e8a",
   "metadata": {},
   "outputs": [
    {
     "data": {
      "text/plain": [
       "0.0016908388046840991"
      ]
     },
     "execution_count": 8,
     "metadata": {},
     "output_type": "execute_result"
    }
   ],
   "source": [
    "np.var(a_k_est[:,1])"
   ]
  },
  {
   "cell_type": "markdown",
   "id": "410fd951",
   "metadata": {},
   "source": [
    "#### Histograma de $a_1$"
   ]
  },
  {
   "cell_type": "code",
   "execution_count": 9,
   "id": "f7257088",
   "metadata": {},
   "outputs": [
    {
     "data": {
      "image/png": "[encoded data removed]",
      "text/plain": [
       "<Figure size 432x288 with 1 Axes>"
      ]
     },
     "metadata": {
      "needs_background": "light"
     },
     "output_type": "display_data"
    }
   ],
   "source": [
    "xrange = [0.6, 1]\n",
    "Nb = 100\n",
    "dx = (xrange[1] - xrange[0]) / (Nb-1)\n",
    "bins = xrange[0]-dx/2 + np.arange(Nb+1)*dx\n",
    "plt.figure()\n",
    "plt.hist(a_k_est[:,1],bins=bins,rwidth=0.8,align='mid',ec='k',density=True)\n",
    "plt.grid('on')"
   ]
  },
  {
   "cell_type": "markdown",
   "id": "638d1acc",
   "metadata": {},
   "source": [
    "## Estadísticas de $a_2$"
   ]
  },
  {
   "cell_type": "markdown",
   "id": "11f1ccad",
   "metadata": {},
   "source": [
    "#### Media de $a_2$"
   ]
  },
  {
   "cell_type": "code",
   "execution_count": 10,
   "id": "ef2c97a8",
   "metadata": {},
   "outputs": [
    {
     "data": {
      "text/plain": [
       "-0.0018921409709083945"
      ]
     },
     "execution_count": 10,
     "metadata": {},
     "output_type": "execute_result"
    }
   ],
   "source": [
    "np.mean(a_k_est[:,2])"
   ]
  },
  {
   "cell_type": "markdown",
   "id": "9fd7628a",
   "metadata": {},
   "source": [
    "#### Varianza de $a_2$"
   ]
  },
  {
   "cell_type": "code",
   "execution_count": 11,
   "id": "42ff9d18",
   "metadata": {},
   "outputs": [
    {
     "data": {
      "text/plain": [
       "2.4864025028534364e-08"
      ]
     },
     "execution_count": 11,
     "metadata": {},
     "output_type": "execute_result"
    }
   ],
   "source": [
    "np.var(a_k_est[:,2])"
   ]
  },
  {
   "cell_type": "markdown",
   "id": "ff72d622",
   "metadata": {},
   "source": [
    "#### Histograma de $a_2$"
   ]
  },
  {
   "cell_type": "code",
   "execution_count": 12,
   "id": "4abc4dc8",
   "metadata": {},
   "outputs": [
    {
     "data": {
      "image/png": "[encoded data removed]",
      "text/plain": [
       "<Figure size 432x288 with 1 Axes>"
      ]
     },
     "metadata": {
      "needs_background": "light"
     },
     "output_type": "display_data"
    }
   ],
   "source": [
    "xrange = [-0.003,-0.001]\n",
    "Nb = 100\n",
    "dx = (xrange[1] - xrange[0]) / (Nb-1)\n",
    "bins = xrange[0]-dx/2 + np.arange(Nb+1)*dx\n",
    "plt.figure()\n",
    "plt.hist(a_k_est[:,2],bins=bins,rwidth=0.8,align='mid',ec='k',density=True)\n",
    "plt.grid('on')"
   ]
  },
  {
   "cell_type": "markdown",
   "id": "3b33d24c",
   "metadata": {},
   "source": [
    "## Estadísticas de $a_3$"
   ]
  },
  {
   "cell_type": "markdown",
   "id": "cda94cdd",
   "metadata": {},
   "source": [
    "#### Media de $a_3$"
   ]
  },
  {
   "cell_type": "code",
   "execution_count": 13,
   "id": "22429313",
   "metadata": {},
   "outputs": [
    {
     "data": {
      "text/plain": [
       "-0.0001750690740940463"
      ]
     },
     "execution_count": 13,
     "metadata": {},
     "output_type": "execute_result"
    }
   ],
   "source": [
    "np.mean(a_k_est[:,3])"
   ]
  },
  {
   "cell_type": "markdown",
   "id": "258e173e",
   "metadata": {},
   "source": [
    "#### Varianza de $a_3$"
   ]
  },
  {
   "cell_type": "code",
   "execution_count": 14,
   "id": "2cc4b38e",
   "metadata": {},
   "outputs": [
    {
     "data": {
      "text/plain": [
       "1.0918118891574165e-10"
      ]
     },
     "execution_count": 14,
     "metadata": {},
     "output_type": "execute_result"
    }
   ],
   "source": [
    "np.var(a_k_est[:,3])"
   ]
  },
  {
   "cell_type": "markdown",
   "id": "a74a4e64",
   "metadata": {},
   "source": [
    "#### Histograma de $a_3$"
   ]
  },
  {
   "cell_type": "code",
   "execution_count": 15,
   "id": "935b4769",
   "metadata": {},
   "outputs": [
    {
     "data": {
      "image/png": "[encoded data removed]",
      "text/plain": [
       "<Figure size 432x288 with 1 Axes>"
      ]
     },
     "metadata": {
      "needs_background": "light"
     },
     "output_type": "display_data"
    }
   ],
   "source": [
    "xrange = [-0.00025,-0.0001]\n",
    "Nb = 100\n",
    "dx = (xrange[1] - xrange[0]) / (Nb-1)\n",
    "bins = xrange[0]-dx/2 + np.arange(Nb+1)*dx\n",
    "plt.figure()\n",
    "plt.hist(a_k_est[:,3],bins=bins,rwidth=0.8,align='mid',ec='k',density=True)\n",
    "plt.grid('on')"
   ]
  },
  {
   "cell_type": "markdown",
   "id": "508584b7",
   "metadata": {},
   "source": [
    "## Estadísticas de $a_4$"
   ]
  },
  {
   "cell_type": "markdown",
   "id": "4c992150",
   "metadata": {},
   "source": [
    "#### Media de $a_4$"
   ]
  },
  {
   "cell_type": "code",
   "execution_count": 16,
   "id": "cd1a23de",
   "metadata": {},
   "outputs": [
    {
     "data": {
      "text/plain": [
       "-1.4506017693203786e-05"
      ]
     },
     "execution_count": 16,
     "metadata": {},
     "output_type": "execute_result"
    }
   ],
   "source": [
    "np.mean(a_k_est[:,4])"
   ]
  },
  {
   "cell_type": "markdown",
   "id": "d057897a",
   "metadata": {},
   "source": [
    "#### Varianza de $a_4$"
   ]
  },
  {
   "cell_type": "code",
   "execution_count": 17,
   "id": "07ae023e",
   "metadata": {},
   "outputs": [
    {
     "data": {
      "text/plain": [
       "4.583963493832325e-13"
      ]
     },
     "execution_count": 17,
     "metadata": {},
     "output_type": "execute_result"
    }
   ],
   "source": [
    "np.var(a_k_est[:,4])"
   ]
  },
  {
   "cell_type": "markdown",
   "id": "215e6d1d",
   "metadata": {},
   "source": [
    "#### Histograma de $a_4$"
   ]
  },
  {
   "cell_type": "code",
   "execution_count": 18,
   "id": "e2fda021",
   "metadata": {},
   "outputs": [
    {
     "data": {
      "image/png": "[encoded data removed]",
      "text/plain": [
       "<Figure size 432x288 with 1 Axes>"
      ]
     },
     "metadata": {
      "needs_background": "light"
     },
     "output_type": "display_data"
    }
   ],
   "source": [
    "xrange = [-1.750e-05,-1.15e-05]\n",
    "Nb = 100\n",
    "dx = (xrange[1] - xrange[0]) / (Nb-1)\n",
    "bins = xrange[0]-dx/2 + np.arange(Nb+1)*dx\n",
    "plt.figure()\n",
    "plt.hist(a_k_est[:,4],bins=bins,rwidth=0.8,align='mid',ec='k',density=True)\n",
    "plt.grid('on')"
   ]
  },
  {
   "cell_type": "markdown",
   "id": "ecba3c11",
   "metadata": {},
   "source": [
    "## Estadísticas de $a_5$"
   ]
  },
  {
   "cell_type": "markdown",
   "id": "90ac0377",
   "metadata": {},
   "source": [
    "#### Media de $a_5$"
   ]
  },
  {
   "cell_type": "code",
   "execution_count": 19,
   "id": "66584666",
   "metadata": {},
   "outputs": [
    {
     "data": {
      "text/plain": [
       "-8.702835161454866e-07"
      ]
     },
     "execution_count": 19,
     "metadata": {},
     "output_type": "execute_result"
    }
   ],
   "source": [
    "np.mean(a_k_est[:,5])"
   ]
  },
  {
   "cell_type": "markdown",
   "id": "1d06d6be",
   "metadata": {},
   "source": [
    "#### Varianza de $a_5$"
   ]
  },
  {
   "cell_type": "code",
   "execution_count": 20,
   "id": "95607487",
   "metadata": {},
   "outputs": [
    {
     "data": {
      "text/plain": [
       "1.222288656211914e-15"
      ]
     },
     "execution_count": 20,
     "metadata": {},
     "output_type": "execute_result"
    }
   ],
   "source": [
    "np.var(a_k_est[:,5])"
   ]
  },
  {
   "cell_type": "markdown",
   "id": "804401a3",
   "metadata": {},
   "source": [
    "#### Histograma de $a_5$"
   ]
  },
  {
   "cell_type": "code",
   "execution_count": 21,
   "id": "3d0bcbd1",
   "metadata": {},
   "outputs": [
    {
     "data": {
      "image/png": "[encoded data removed]",
      "text/plain": [
       "<Figure size 432x288 with 1 Axes>"
      ]
     },
     "metadata": {
      "needs_background": "light"
     },
     "output_type": "display_data"
    }
   ],
   "source": [
    "xrange = [-11e-07,-6e-07]\n",
    "Nb = 100\n",
    "dx = (xrange[1] - xrange[0]) / (Nb-1)\n",
    "bins = xrange[0]-dx/2 + np.arange(Nb+1)*dx\n",
    "plt.figure()\n",
    "plt.hist(a_k_est[:,5],bins=bins,rwidth=0.8,align='mid',ec='k',density=True)\n",
    "plt.grid('on')"
   ]
  },
  {
   "cell_type": "markdown",
   "id": "cc6b33f5",
   "metadata": {},
   "source": [
    "### Estimación de una señal sinusoidal con ruido con el modelo de suma de sinusoides"
   ]
  },
  {
   "cell_type": "markdown",
   "id": "4d6a1d70",
   "metadata": {},
   "source": [
    "### Se genera la matriz H"
   ]
  },
  {
   "cell_type": "code",
   "execution_count": 22,
   "id": "30a10a2f",
   "metadata": {},
   "outputs": [
    {
     "name": "stdout",
     "output_type": "stream",
     "text": [
      "(20, 2)\n",
      "[[ 1.00000000e+00  0.00000000e+00]\n",
      " [ 9.51056516e-01  3.09016994e-01]\n",
      " [ 8.09016994e-01  5.87785252e-01]\n",
      " [ 5.87785252e-01  8.09016994e-01]\n",
      " [ 3.09016994e-01  9.51056516e-01]\n",
      " [ 6.12323400e-17  1.00000000e+00]\n",
      " [-3.09016994e-01  9.51056516e-01]\n",
      " [-5.87785252e-01  8.09016994e-01]\n",
      " [-8.09016994e-01  5.87785252e-01]\n",
      " [-9.51056516e-01  3.09016994e-01]\n",
      " [-1.00000000e+00  1.22464680e-16]\n",
      " [-9.51056516e-01 -3.09016994e-01]\n",
      " [-8.09016994e-01 -5.87785252e-01]\n",
      " [-5.87785252e-01 -8.09016994e-01]\n",
      " [-3.09016994e-01 -9.51056516e-01]\n",
      " [-1.83697020e-16 -1.00000000e+00]\n",
      " [ 3.09016994e-01 -9.51056516e-01]\n",
      " [ 5.87785252e-01 -8.09016994e-01]\n",
      " [ 8.09016994e-01 -5.87785252e-01]\n",
      " [ 9.51056516e-01 -3.09016994e-01]]\n"
     ]
    }
   ],
   "source": [
    "H = np.array([np.cos(2*np.pi*f0*n), np.sin(2*np.pi*f0*n)])\n",
    "H =  H.reshape((2, 20))\n",
    "H = np.transpose(H)\n",
    "print(H.shape)\n",
    "print(H)"
   ]
  },
  {
   "cell_type": "markdown",
   "id": "4e026101",
   "metadata": {},
   "source": [
    "### Se ejecuta el algoritmo 1000 veces y se estiman los valores de $B_{est}$ y $C_{est}$"
   ]
  },
  {
   "cell_type": "code",
   "execution_count": 23,
   "id": "c1f45155",
   "metadata": {},
   "outputs": [],
   "source": [
    "K = 1000\n",
    "B_C_est = np.zeros([K,2])\n",
    "\n",
    "for i in range(K):\n",
    "    w_n = (sigma*np.random.randn(N)).reshape(-1,1)\n",
    "    x_n = A*np.cos(2*np.pi*f0*n + phi) + w_n\n",
    "    \n",
    "    B_C_est[i] = (np.linalg.inv((np.transpose(H) @ H))@ np.transpose(H) @ x_n).flatten()\n",
    "    \n",
    "B_est = B_C_est[:,0]\n",
    "C_est = B_C_est[:,1]"
   ]
  },
  {
   "cell_type": "markdown",
   "id": "c329ef0e",
   "metadata": {},
   "source": [
    "## Estadísticas de $A_{est}$ y $\\phi_{est}$"
   ]
  },
  {
   "cell_type": "code",
   "execution_count": 24,
   "id": "fc8db703",
   "metadata": {},
   "outputs": [],
   "source": [
    "A_est = np.sqrt(B_est**2 + C_est**2)\n",
    "phi_est = np.arctan(-B_est/C_est)"
   ]
  },
  {
   "cell_type": "markdown",
   "id": "db0bd9d9",
   "metadata": {},
   "source": [
    "#### Media de $A_{est}$"
   ]
  },
  {
   "cell_type": "code",
   "execution_count": 25,
   "id": "8e4d089c",
   "metadata": {},
   "outputs": [
    {
     "data": {
      "text/plain": [
       "9.993292497021304"
      ]
     },
     "execution_count": 25,
     "metadata": {},
     "output_type": "execute_result"
    }
   ],
   "source": [
    "np.mean(A_est)"
   ]
  },
  {
   "cell_type": "markdown",
   "id": "6d8099ed",
   "metadata": {},
   "source": [
    "#### Varianza de $A_{est}$"
   ]
  },
  {
   "cell_type": "code",
   "execution_count": 26,
   "id": "f06deac0",
   "metadata": {},
   "outputs": [
    {
     "data": {
      "text/plain": [
       "0.09662864812604934"
      ]
     },
     "execution_count": 26,
     "metadata": {},
     "output_type": "execute_result"
    }
   ],
   "source": [
    "np.var(A_est)"
   ]
  },
  {
   "cell_type": "markdown",
   "id": "c7101fb1",
   "metadata": {},
   "source": [
    "#### Histograma de$A_{est}$"
   ]
  },
  {
   "cell_type": "code",
   "execution_count": 27,
   "id": "4e1eb8b3",
   "metadata": {},
   "outputs": [
    {
     "data": {
      "image/png": "[encoded data removed]",
      "text/plain": [
       "<Figure size 432x288 with 1 Axes>"
      ]
     },
     "metadata": {
      "needs_background": "light"
     },
     "output_type": "display_data"
    }
   ],
   "source": [
    "xrange = [8.5,11.5]\n",
    "Nb = 100\n",
    "dx = (xrange[1] - xrange[0]) / (Nb-1)\n",
    "bins = xrange[0]-dx/2 + np.arange(Nb+1)*dx\n",
    "plt.figure()\n",
    "plt.hist(A_est,bins=bins,rwidth=0.8,align='mid',ec='k',density=True)\n",
    "plt.grid('on')"
   ]
  },
  {
   "cell_type": "markdown",
   "id": "341136f0",
   "metadata": {},
   "source": [
    "#### Media de $\\phi_{est}$"
   ]
  },
  {
   "cell_type": "code",
   "execution_count": 28,
   "id": "2abf00cf",
   "metadata": {},
   "outputs": [
    {
     "data": {
      "text/plain": [
       "0.7867533041243994"
      ]
     },
     "execution_count": 28,
     "metadata": {},
     "output_type": "execute_result"
    }
   ],
   "source": [
    "np.mean(phi_est)"
   ]
  },
  {
   "cell_type": "markdown",
   "id": "c5c8ffb2",
   "metadata": {},
   "source": [
    "$\\pi / 4 = 0.78539$"
   ]
  },
  {
   "cell_type": "markdown",
   "id": "0574e854",
   "metadata": {},
   "source": [
    "#### Varianza de $\\phi_{est}$"
   ]
  },
  {
   "cell_type": "code",
   "execution_count": 29,
   "id": "274909f9",
   "metadata": {},
   "outputs": [
    {
     "data": {
      "text/plain": [
       "0.0009599586729667531"
      ]
     },
     "execution_count": 29,
     "metadata": {},
     "output_type": "execute_result"
    }
   ],
   "source": [
    "np.var(phi_est)"
   ]
  },
  {
   "cell_type": "markdown",
   "id": "ff9fdc58",
   "metadata": {},
   "source": [
    "#### Histograma de $\\phi_{est}$"
   ]
  },
  {
   "cell_type": "code",
   "execution_count": 30,
   "id": "85b0734d",
   "metadata": {},
   "outputs": [
    {
     "data": {
      "image/png": "[encoded data removed]",
      "text/plain": [
       "<Figure size 432x288 with 1 Axes>"
      ]
     },
     "metadata": {
      "needs_background": "light"
     },
     "output_type": "display_data"
    }
   ],
   "source": [
    "xrange = [0.65,0.95]\n",
    "Nb = 100\n",
    "dx = (xrange[1] - xrange[0]) / (Nb-1)\n",
    "bins = xrange[0]-dx/2 + np.arange(Nb+1)*dx\n",
    "plt.figure()\n",
    "plt.hist(phi_est,bins=bins,rwidth=0.8,align='mid',ec='k',density=True)\n",
    "plt.grid('on')"
   ]
  },
  {
   "cell_type": "markdown",
   "id": "367ef5d3",
   "metadata": {},
   "source": [
    "### Se comparan polinomios de diferente orden"
   ]
  },
  {
   "cell_type": "markdown",
   "id": "1e1c220b",
   "metadata": {},
   "source": [
    "#### para n = 2"
   ]
  },
  {
   "cell_type": "code",
   "execution_count": 31,
   "id": "fdee23ae",
   "metadata": {},
   "outputs": [],
   "source": [
    "N = 20\n",
    "A = 10\n",
    "f0 = 1/N\n",
    "phi = np.pi/4\n",
    "sigma = 1\n",
    "\n",
    "n = np.arange(N).reshape(-1,1)\n",
    "H = np.array([n**0, n**1])\n",
    "H = H.reshape((2, 20))\n",
    "H = np.transpose(H)\n",
    "\n",
    "K = 1000\n",
    "a_k_est = np.zeros([K,2])\n",
    "\n",
    "for i in range(K):\n",
    "    w_n = (sigma*np.random.randn(N)).reshape(-1,1)\n",
    "    x_n = A*np.cos(2*np.pi*f0*n + phi) + w_n\n",
    "    \n",
    "    a_k_est[i] = (np.linalg.inv((np.transpose(H) @ H))@ np.transpose(H) @ x_n).flatten()"
   ]
  },
  {
   "cell_type": "code",
   "execution_count": 32,
   "id": "bd760565",
   "metadata": {},
   "outputs": [
    {
     "name": "stdout",
     "output_type": "stream",
     "text": [
      "Varianza para a_0\n",
      "0.17783450505098067\n",
      "Varianza para a_1\n",
      "0.0013965763623825923\n"
     ]
    }
   ],
   "source": [
    "print ('Varianza para a_0')\n",
    "print(np.var(a_k_est[:,0]))\n",
    "print ('Varianza para a_1')\n",
    "print(np.var(a_k_est[:,1]))"
   ]
  },
  {
   "cell_type": "markdown",
   "id": "e23f893b",
   "metadata": {},
   "source": [
    "#### para n = 10"
   ]
  },
  {
   "cell_type": "code",
   "execution_count": 33,
   "id": "f16aad29",
   "metadata": {},
   "outputs": [],
   "source": [
    "N = 20\n",
    "A = 10\n",
    "f0 = 1/N\n",
    "phi = np.pi/4\n",
    "sigma = 1\n",
    "\n",
    "n = np.arange(N).reshape(-1,1)\n",
    "H = np.array([n**0, n**1, n**2, n**3, n**4, n**5, n**6, n**7, n**8, n**9])\n",
    "H = H.reshape((10, 20))\n",
    "H = np.transpose(H)\n",
    "\n",
    "K = 1000\n",
    "a_k_est = np.zeros([K,10])\n",
    "\n",
    "for i in range(K):\n",
    "    w_n = (sigma*np.random.randn(N)).reshape(-1,1)\n",
    "    x_n = A*np.cos(2*np.pi*f0*n + phi) + w_n\n",
    "    \n",
    "    a_k_est[i] = (np.linalg.inv((np.transpose(H) @ H))@ np.transpose(H) @ x_n).flatten()"
   ]
  },
  {
   "cell_type": "code",
   "execution_count": 34,
   "id": "13039d95",
   "metadata": {},
   "outputs": [
    {
     "name": "stdout",
     "output_type": "stream",
     "text": [
      "Varianza para a_0\n",
      "2.4555339426977563\n",
      "Varianza para a_1\n",
      "1.2202342866305371\n",
      "Varianza para a_2\n",
      "0.4994990040087262\n",
      "Varianza para a_3\n",
      "0.08191535099524964\n",
      "Varianza para a_4\n",
      "0.3369995156478609\n",
      "Varianza para a_5\n",
      "0.5572209371226572\n",
      "Varianza para a_6\n",
      "0.33916228361663664\n",
      "Varianza para a_7\n",
      "0.03361020236141322\n",
      "Varianza para a_8\n",
      "0.2678830721539837\n",
      "Varianza para a_9\n",
      "1.461308828788057\n"
     ]
    }
   ],
   "source": [
    "print ('Varianza para a_0')\n",
    "print(np.var(a_k_est[:,0]))\n",
    "print ('Varianza para a_1')\n",
    "print(np.var(a_k_est[:,1]))\n",
    "print ('Varianza para a_2')\n",
    "print(np.var(a_k_est[:,2]))\n",
    "print ('Varianza para a_3')\n",
    "print(np.var(a_k_est[:,3]))\n",
    "print ('Varianza para a_4')\n",
    "print(np.var(a_k_est[:,4]))\n",
    "print ('Varianza para a_5')\n",
    "print(np.var(a_k_est[:,5]))\n",
    "print ('Varianza para a_6')\n",
    "print(np.var(a_k_est[:,6]))\n",
    "print ('Varianza para a_7')\n",
    "print(np.var(a_k_est[:,7]))\n",
    "print ('Varianza para a_8')\n",
    "print(np.var(a_k_est[:,8]))\n",
    "print ('Varianza para a_9')\n",
    "print(np.var(a_k_est[:,9]))"
   ]
  },
  {
   "cell_type": "markdown",
   "id": "b0428a44",
   "metadata": {},
   "source": [
    "### A mayor orden puede llegar a incrementar la varianza y generar overfitting, no se puede incrementar el orden indefinidamente, se debe buscar aquel en el cual se reduzca el error de estimación. Del mismo modo, si el orden es muy bajo puede generar underfitting."
   ]
  },
  {
   "cell_type": "markdown",
   "id": "6e3f638b",
   "metadata": {},
   "source": [
    "### Para el modelo de datos sinusoidal"
   ]
  },
  {
   "cell_type": "markdown",
   "id": "13a388ec",
   "metadata": {},
   "source": [
    "### En base a los datos obtenidos, la distribución de los histogramas tienen las siguientes distribuciones:"
   ]
  },
  {
   "cell_type": "markdown",
   "id": "6f9d50f1",
   "metadata": {},
   "source": [
    "### Distribución de $A_{est}$"
   ]
  },
  {
   "cell_type": "markdown",
   "id": "4dd83fba",
   "metadata": {},
   "source": [
    "$ A_{est} \\sim \\mathcal{N}(9.993,\\,0.096)$"
   ]
  },
  {
   "cell_type": "markdown",
   "id": "a1d3bc0d",
   "metadata": {},
   "source": [
    "### Distribución de $\\phi_{est}$"
   ]
  },
  {
   "cell_type": "markdown",
   "id": "bb1bb00c",
   "metadata": {},
   "source": [
    "$ \\phi_{est} \\sim \\mathcal{N}(0.7867,\\,0.0009)$"
   ]
  },
  {
   "cell_type": "markdown",
   "id": "5b316b12",
   "metadata": {},
   "source": [
    "### Además, en base a la correlación"
   ]
  },
  {
   "cell_type": "code",
   "execution_count": 35,
   "id": "b969b5e1",
   "metadata": {},
   "outputs": [
    {
     "name": "stdout",
     "output_type": "stream",
     "text": [
      "[7862.04918064]\n"
     ]
    }
   ],
   "source": [
    "print(np.correlate(A_est, phi_est))"
   ]
  },
  {
   "cell_type": "markdown",
   "id": "494587e9",
   "metadata": {},
   "source": [
    "### Se oberva que son altamente correlacionados, ya que son linealmente dependientes. Para reducir la correlación se debe reducir la diferencia entre las variables."
   ]
  }
 ],
 "metadata": {
  "kernelspec": {
   "display_name": "Python 3 (ipykernel)",
   "language": "python",
   "name": "python3"
  },
  "language_info": {
   "codemirror_mode": {
    "name": "ipython",
    "version": 3
   },
   "file_extension": ".py",
   "mimetype": "text/x-python",
   "name": "python",
   "nbconvert_exporter": "python",
   "pygments_lexer": "ipython3",
   "version": "3.10.0"
  }
 },
 "nbformat": 4,
 "nbformat_minor": 5
}
