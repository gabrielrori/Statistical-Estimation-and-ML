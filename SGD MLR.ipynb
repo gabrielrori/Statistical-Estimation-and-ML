{
 "cells": [
  {
   "cell_type": "markdown",
   "id": "4bcc7bd8",
   "metadata": {},
   "source": [
    "# Regresión logística multinomial"
   ]
  },
  {
   "cell_type": "markdown",
   "id": "1d955afe",
   "metadata": {},
   "source": [
    "## Declaración de librerías"
   ]
  },
  {
   "cell_type": "code",
   "execution_count": 1,
   "id": "0d5d3f6a",
   "metadata": {},
   "outputs": [],
   "source": [
    "import numpy as np\n",
    "import matplotlib.pyplot as plt\n",
    "import requests, gzip, os, hashlib\n",
    "import time\n",
    "from numpy import linalg as LA"
   ]
  },
  {
   "cell_type": "markdown",
   "id": "79f6600f",
   "metadata": {},
   "source": [
    "## Funciones"
   ]
  },
  {
   "cell_type": "code",
   "execution_count": 2,
   "id": "397e6254",
   "metadata": {},
   "outputs": [],
   "source": [
    "# train_data, test_data, train_labels, test_labels = read_datasets(train_data_csv, test_data_csv)\n",
    "\n",
    "def read_datasets(train_data_csv, test_data_csv):\n",
    "    \n",
    "    train_data = np.loadtxt(train_data_csv, delimiter=\",\")\n",
    "    test_data = np.loadtxt(test_data_csv, delimiter=\",\") \n",
    "\n",
    "    train_labels = np.asfarray(train_data[:, :1])\n",
    "    test_labels = np.asfarray(test_data[:, :1])\n",
    "    \n",
    "    return train_data, test_data, train_labels, test_labels;\n",
    "\n",
    "\n",
    "\n",
    "# train_data, test_data = normalize_dataset(train_data, test_data, max_value)\n",
    "\n",
    "def normalize_dataset(train_data, test_data, max_value):\n",
    "\n",
    "    train_data = np.asfarray(train_data[:, 1:])/max_value\n",
    "    test_data = np.asfarray(test_data[:, 1:])/max_value\n",
    "    \n",
    "    return train_data, test_data;\n",
    "\n",
    "\n",
    "\n",
    "# display_data(dataset, index, m, n)\n",
    "\n",
    "def display_data(dataset, index, m, n):\n",
    "    \n",
    "    image = dataset[index].reshape((m,n))\n",
    "    plt.imshow(image)\n",
    "    plt.show()\n",
    "\n",
    "\n",
    "\n",
    "# train_labels_hot, test_labels_hot = onehot_dataset(train_labels, test_labels, n_classes)   \n",
    "    \n",
    "def onehot_dataset(train_labels, test_labels, labels_size):\n",
    "    \n",
    "    labels_vector = np.arange(labels_size)\n",
    "    train_labels_hot = (labels_vector==train_labels).astype(float)\n",
    "    test_labels_hot = (labels_vector==test_labels).astype(float)\n",
    "    \n",
    "    return train_labels_hot, test_labels_hot;\n",
    "\n",
    "\n",
    "\n",
    "# Y_hot_hat = softmax(X, W)\n",
    "\n",
    "def softmax(X, W, N, Z):\n",
    "    \n",
    "    Z_exp = np.exp(Z)\n",
    "    Z_exp_sum = Z_exp.sum(axis=1).reshape([N,1])\n",
    "    Y_hot_hat = Z_exp / Z_exp_sum[None,:]\n",
    "    Y_hot_hat = Y_hot_hat[0]\n",
    "    \n",
    "    return Y_hot_hat;\n",
    "\n",
    "\n",
    "\n",
    "# gradient = gradient_fun(X, Y_hot, Y_hot_hat, N)\n",
    "\n",
    "def gradient_fun(X, Y_hot, Y_hot_hat, N):\n",
    "\n",
    "    gradient = 1/N * (X.T @ (Y_hot - Y_hot_hat))\n",
    "    \n",
    "    return gradient;\n",
    "\n",
    "\n",
    "\n",
    "# cost = cost_fun(X, Y_hot, W, N)\n",
    "\n",
    "def cost_fun(X, Y_hot, W, N, Z):\n",
    "    \n",
    "    #cost[0] = 1/N * (np.trace(X.T @Y_hot  @ W.T) + np.sum(np.log(np.sum(np.exp(X @ W), axis=0))))\n",
    "    #cost = 1/N * (np.sum(np.multiply(X,Y_hot@ W.T)) + np.sum(np.log(np.sum(np.exp(X @ W), axis=0))))\n",
    "    cost = 1/N * (np.sum(np.multiply(X,W.T[Y[0,:].astype(int), :])) + np.sum(np.log(np.sum(np.exp(Z), axis=1))))\n",
    "    #cost = 1/N * (np.sum(np.multiply(X,Y_hot@ W.T)) + np.sum(np.log(np.sum(np.exp(X @ W), axis=0))))\n",
    "    #np.sum(np.multiply(X,Y_hot@ W.T))\n",
    "    \n",
    "    return cost;\n",
    "\n",
    "\n",
    "\n",
    "\n",
    "# score_count = score_count_fun(Y, Y_hot_hat)\n",
    "\n",
    "def score_count_fun(X, W, Y, N, Z): \n",
    "    \n",
    "    #Y_hat = np.argmax(Y_hot_hat,axis=2 )\n",
    "    Y_hot_hat = softmax(X, W, N, Z)\n",
    "    Y_hat = np.argmax(Y_hot_hat,axis=1 )\n",
    "    score_count = np.sum(Y == Y_hat)\n",
    "    \n",
    "    return score_count;\n",
    "\n",
    "\n",
    "\n",
    "\n",
    "# accuaracy_fun(X, W, Y, N):\n",
    "\n",
    "def accuaracy_fun(X, W, Y, N, Z): #Halla Z igual que en softmax (softmax lo hace con R), revisar\n",
    "    \n",
    "    score_count = score_count_fun(X, W, Y, N, Z)\n",
    "    \n",
    "    train_accuaracy = score_count/N\n",
    "    \n",
    "    print(train_accuaracy)\n",
    "    \n",
    "\n",
    "    \n",
    "# plot_fun_1axis(data, xlabel, ylabel)\n",
    "\n",
    "def plot_fun_1axis(data, xlabel, ylabel):\n",
    "    \n",
    "    plt.figure(1)\n",
    "    plt.plot(data)\n",
    "    plt.grid('on')\n",
    "    plt.xlabel(xlabel)\n",
    "    plt.ylabel(ylabel)\n",
    "    plt.show()\n",
    "    \n",
    "\n",
    "\n",
    "    \n",
    "# plot_fun_1axis_log(data, xlabel, ylabel)\n",
    "    \n",
    "def plot_fun_1axis_log(data, xlabel, ylabel):\n",
    "    \n",
    "    plt.plot(data)\n",
    "    plt.grid('on')\n",
    "    plt.xlabel(xlabel)\n",
    "    plt.ylabel(ylabel)\n",
    "    plt.yscale('log')\n",
    "    plt.show()  \n",
    "    \n",
    "\n",
    "\n",
    "    \n",
    "# plot_results_1axis_delay(data, delay,  N, xlabel, ylabel)\n",
    "\n",
    "def plot_results_1axis_delay(data, delay,  N, xlabel, ylabel):\n",
    "    \n",
    "    plt.plot(data[delay:N])\n",
    "    plt.grid('on')\n",
    "    plt.xlabel(xlabel)\n",
    "    plt.ylabel(ylabel)\n",
    "    plt.show()\n",
    "    \n",
    "    \n",
    "\n",
    "    \n",
    "# plot_fun_2axis(x_axis, y_axis, xlabel, ylabel)\n",
    "    \n",
    "def plot_fun_2axis(x_axis, y_axis, xlabel, ylabel):\n",
    "    \n",
    "    plt.plot(x_axis, y_axis)\n",
    "    plt.grid('on')\n",
    "    plt.xlabel(xlabel)\n",
    "    plt.ylabel(ylabel)\n",
    "    plt.show()\n",
    "  \n",
    "    \n",
    "\n",
    "\n",
    "    \n",
    "# plot_result_2_fun(data1, data2)\n",
    "\n",
    "def plot_result_2_fun(data1, data2, N_epochs):\n",
    "\n",
    "    t = np.arange(N_epochs+1)\n",
    "\n",
    "    fig, ax1 = plt.subplots()\n",
    "\n",
    "    color = 'tab:red'\n",
    "    ax1.set_xlabel('Epoch')\n",
    "    ax1.set_ylabel('Función de Costo', color=color)\n",
    "    ax1.plot(t, data1, color=color)\n",
    "    ax1.tick_params(axis='y', labelcolor=color)\n",
    "\n",
    "    ax2 = ax1.twinx() \n",
    "    color = 'tab:blue'\n",
    "    ax2.set_ylabel('Número de aciertos', color=color) \n",
    "    ax2.plot(t, data2, color=color)\n",
    "    ax2.tick_params(axis='y', labelcolor=color)\n",
    "\n",
    "    fig.tight_layout()\n",
    "    plt.show()\n",
    "\n",
    "\n",
    "\n",
    "\n",
    "# test_data_hat_comparison(X, W, Y, index, m, n, k)\n",
    "    \n",
    "def test_data_hat_comparison(X, W, Y, index, m, n, k):\n",
    "    \n",
    "\n",
    "    test_vector = X[index,0:k]\n",
    "    test = test_vector.reshape((m,n))\n",
    "\n",
    "    plt.imshow(test)\n",
    "    plt.show()\n",
    "\n",
    "    y_hat = np.exp(-np.transpose(W).dot(test_vector))\n",
    "    print(y_hat)\n",
    "    print(np.argmax(y_hat))\n",
    "\n",
    "    print(Y[0, index])"
   ]
  },
  {
   "cell_type": "code",
   "execution_count": 3,
   "id": "639b5ce5",
   "metadata": {},
   "outputs": [],
   "source": [
    "def multinominalLR_SGD(X, W, Y, N_epochs, n_blocks, k, L, r, alpha):\n",
    "    \n",
    "    cost = np.zeros([N_epochs+1,1])\n",
    "    score_count = np.zeros([N_epochs+1,1])\n",
    "    time_epoch = np.zeros([N_epochs+1,1])\n",
    "    \n",
    "    Z = -X @ W\n",
    "    #Funcion de Costo\n",
    "    cost[0] = cost_fun(X, Y_hot, W, N, Z)\n",
    "    #Cuenta del Score\n",
    "    score_count[0] = score_count_fun(X, W, Y, N, Z)\n",
    "\n",
    "    #Tiempo\n",
    "    time_epoch[0] = 0\n",
    "    t = time.time()\n",
    "\n",
    "    for i in range(N_epochs):\n",
    "    \n",
    "        R = np.random.permutation(N).reshape((r, n_blocks))\n",
    "\n",
    "        for j in range(n_blocks):\n",
    "        \n",
    "            X_R  = X[R[:,j],:]\n",
    "            Y_R_hot = Y_hot[R[:,j],:]\n",
    "            Z_R = -X_R @ W\n",
    "            Y_R_hot_hat = softmax(X_R, W, r, Z_R)\n",
    "        \n",
    "            #Gradiente\n",
    "            gradient_R = gradient_fun(X_R, Y_R_hot, Y_R_hot_hat, r)   \n",
    "            W = W - alpha*gradient_R\n",
    "            \n",
    "        #print(i)\n",
    "        Z = -X @ W\n",
    "        #Función de Costo\n",
    "        cost[i+1] = cost_fun(X, Y_hot, W, N, Z)\n",
    "    \n",
    "        #Cuenta del Score\n",
    "        score_count[i+1] = score_count_fun(X, W, Y, N, Z)\n",
    "        \n",
    "        time_epoch[i+1] = time.time() - t \n",
    "        \n",
    "    return cost, score_count, time_epoch, W,X_R, gradient_R\n",
    "    "
   ]
  },
  {
   "cell_type": "markdown",
   "id": "b48a9a5a",
   "metadata": {},
   "source": [
    "## Función de Regresión Multinomial SGD ADAM"
   ]
  },
  {
   "cell_type": "code",
   "execution_count": 6,
   "id": "07514af4",
   "metadata": {},
   "outputs": [],
   "source": [
    "def multinominalLR_SGD_ADAM(X, W, Y, beta1, beta2, eps, N_epochs, n_blocks, k, L, r, alpha):\n",
    "\n",
    "    cost = np.zeros([N_epochs+1,1])\n",
    "    score_count = np.zeros([N_epochs+1,1])\n",
    "    time_epoch = np.zeros([N_epochs+1,1])\n",
    "\n",
    "    beta1_t = np.zeros([N_epochs*n_blocks+1,1])\n",
    "    beta2_t = np.zeros([N_epochs*n_blocks+1,1])\n",
    "\n",
    "    mt = np.zeros((k,L))\n",
    "    vt = np.zeros((k,L))\n",
    "\n",
    "    Z = -X @ W\n",
    "    #Funcion de Costo\n",
    "    cost[0] = cost_fun(X, Y_hot, W, N, Z)\n",
    "\n",
    "    #Cuenta del Score\n",
    "    score_count[0] = score_count_fun(X, W, Y, N, Z)\n",
    "\n",
    "    #Tiempo\n",
    "    time_epoch[0] = 0\n",
    "    t = time.time()\n",
    "\n",
    "    for i in range(N_epochs):\n",
    "    \n",
    "        R = np.random.permutation(N).reshape((r, n_blocks))\n",
    "\n",
    "        for j in range(n_blocks):\n",
    "        \n",
    "            X_R  = X[R[:,j],:]\n",
    "            Y_R_hot = Y_hot[R[:,j],:]\n",
    "            Z_R = -X_R @ W\n",
    "            Y_R_hot_hat = softmax(X_R, W, r, Z_R)\n",
    "        \n",
    "            #Gradiente\n",
    "            gradient_R = gradient_fun(X_R, Y_R_hot, Y_R_hot_hat, r)   \n",
    "        \n",
    "            #ADAM\n",
    "            mt = beta1*mt + (1-beta1)*gradient_R\n",
    "            vt = beta2*vt + (1-beta2)*(gradient_R**2)\n",
    "\n",
    "            #beta1_t = beta1**(i+1) #\n",
    "            #beta2_t = beta2**(i+1)\n",
    "        \n",
    "            beta1_t = beta1**((n_blocks*i+(j+1))) \n",
    "            beta2_t = beta2**((n_blocks*i+(j+1)))      \n",
    "        \n",
    "            #print(n_blocks*i+(j+1))\n",
    "        \n",
    "            mhat_t = mt / (1-beta1_t)\n",
    "            vhat_t = vt / (1-beta2_t)\n",
    "        \n",
    "            #alpha_t = alpha * np.sqrt(1-beta2_t) / (1-beta1_t) #1\n",
    "            #W = W - alpha_t * mt / (np.sqrt(vt) + eps) #1\n",
    "        \n",
    "            W = W - alpha*mhat_t / (np.sqrt(vhat_t) + eps) #2\n",
    "        \n",
    "\n",
    "        #print(i)\n",
    "        Z = -X @ W\n",
    "        #Función de Costo\n",
    "        cost[i+1] = cost_fun(X, Y_hot, W, N, Z)\n",
    "    \n",
    "        #Cuenta del Score\n",
    "        score_count[i+1] = score_count_fun(X, W, Y, N, Z)\n",
    "        \n",
    "        time_epoch[i+1] = time.time() - t \n",
    "    \n",
    "    return cost, score_count, time_epoch, W "
   ]
  },
  {
   "cell_type": "markdown",
   "id": "d0f59083",
   "metadata": {},
   "source": [
    "## Iniciacización de parámentros"
   ]
  },
  {
   "cell_type": "code",
   "execution_count": 7,
   "id": "bc0de4fe",
   "metadata": {},
   "outputs": [],
   "source": [
    "data_len = 28\n",
    "data_size = data_len*data_len\n",
    "labels_size = 10\n",
    "N = 60000\n",
    "N_test = 10000\n",
    "\n",
    "k = 28*28 #numero de features\n",
    "L = 10 #numero de clases\n",
    "N = 60000\n",
    "W_init = np.random.random((k, L))/np.sqrt(k*L)\n",
    "alpha_SGD = 0.001\n",
    "alpha_SGD_ADAM = 0.001\n",
    "\n",
    "#minlim = 0.0001\n",
    "#maxlim = 0.1\n",
    "\n",
    "maxlim = 1\n",
    "auto_scale = 10**-3\n",
    "\n",
    "sets_epoch = 0.01\n",
    "R = int(sets_epoch*N)\n",
    "N_epochs = 20\n",
    "r = 100 #tamaño de bloque\n",
    "n_blocks = int(N/r) #número de bloques\n",
    "\n",
    "beta = 10/N_epochs\n",
    "eta = 0.1"
   ]
  },
  {
   "cell_type": "markdown",
   "id": "63a8fc6b",
   "metadata": {},
   "source": [
    "## Iniciacización de parámentros ADAM"
   ]
  },
  {
   "cell_type": "code",
   "execution_count": 8,
   "id": "30e70070",
   "metadata": {},
   "outputs": [],
   "source": [
    "#ADAM\n",
    "\n",
    "beta1 = 0.9 #0.9 0.8\n",
    "beta2 = 0.999 #0.999 0.899\n",
    "\n",
    "eps = 10**-8"
   ]
  },
  {
   "cell_type": "markdown",
   "id": "7a240b02",
   "metadata": {},
   "source": [
    "## Lectura del dataset"
   ]
  },
  {
   "cell_type": "code",
   "execution_count": 9,
   "id": "618da7f7",
   "metadata": {},
   "outputs": [],
   "source": [
    "train_data_csv = \"mnist_train.csv\"\n",
    "test_data_csv = \"mnist_test.csv\"\n",
    "\n",
    "X, X_test, Y, Y_test = read_datasets(train_data_csv, test_data_csv)\n",
    "\n",
    "# Normalizar dataset\n",
    "\n",
    "max_value = 255.0\n",
    "X, X_test = normalize_dataset(X, X_test, max_value)\n",
    "\n",
    "# Representacoón one-hot\n",
    "\n",
    "Y_hot, Y_hot_test = onehot_dataset(Y, Y_test, labels_size)\n",
    "Y = np.transpose(Y)\n",
    "Y_test = np.transpose(Y_test)"
   ]
  },
  {
   "cell_type": "markdown",
   "id": "ab577519",
   "metadata": {},
   "source": [
    "## Probar accuaracy previamente"
   ]
  },
  {
   "cell_type": "code",
   "execution_count": 10,
   "id": "3d15f94b",
   "metadata": {},
   "outputs": [
    {
     "name": "stdout",
     "output_type": "stream",
     "text": [
      "Accuaracy:\n",
      "0.11668333333333333\n"
     ]
    },
    {
     "data": {
      "image/png": "[encoded data removed]",
      "text/plain": [
       "<Figure size 432x288 with 1 Axes>"
      ]
     },
     "metadata": {
      "needs_background": "light"
     },
     "output_type": "display_data"
    },
    {
     "name": "stdout",
     "output_type": "stream",
     "text": [
      "[0.62160735 0.60906425 0.582788   0.60548121 0.56662506 0.5941264\n",
      " 0.62863372 0.63384155 0.59286009 0.61857791]\n",
      "7\n",
      "9.0\n"
     ]
    },
    {
     "data": {
      "image/png": "[encoded data removed]",
      "text/plain": [
       "<Figure size 432x288 with 1 Axes>"
      ]
     },
     "metadata": {
      "needs_background": "light"
     },
     "output_type": "display_data"
    },
    {
     "name": "stdout",
     "output_type": "stream",
     "text": [
      "[0.75363517 0.72631436 0.72659746 0.73748208 0.70916114 0.71863515\n",
      " 0.73549271 0.73255231 0.71381664 0.74311866]\n",
      "0\n",
      "1.0\n"
     ]
    },
    {
     "data": {
      "image/png": "[encoded data removed]",
      "text/plain": [
       "<Figure size 432x288 with 1 Axes>"
      ]
     },
     "metadata": {
      "needs_background": "light"
     },
     "output_type": "display_data"
    },
    {
     "name": "stdout",
     "output_type": "stream",
     "text": [
      "[0.63759616 0.64779607 0.61415599 0.61449496 0.57359788 0.61854083\n",
      " 0.61342833 0.63842105 0.61005605 0.62316494]\n",
      "1\n",
      "4.0\n"
     ]
    }
   ],
   "source": [
    "print(\"Accuaracy:\")\n",
    "Z = -X @ W_init\n",
    "accuaracy_fun(X, W_init, Y, N, Z)\n",
    "\n",
    "test_data_hat_comparison(X, W_init, Y, 4, data_len, data_len, k)\n",
    "test_data_hat_comparison(X, W_init, Y, 40, data_len, data_len, k)\n",
    "test_data_hat_comparison(X, W_init, Y, 4240, data_len, data_len, k)"
   ]
  },
  {
   "cell_type": "markdown",
   "id": "90f053f0",
   "metadata": {},
   "source": [
    "## Algoritmo SGD"
   ]
  },
  {
   "cell_type": "code",
   "execution_count": 11,
   "id": "2461193b",
   "metadata": {},
   "outputs": [],
   "source": [
    "cost_SGD, score_count_SGD, time_epoch_SGD, W_SGD, X_R, gradient_R = multinominalLR_SGD(X, W_init, Y, N_epochs, n_blocks, k, L, r, alpha_SGD)"
   ]
  },
  {
   "cell_type": "markdown",
   "id": "9d56e169",
   "metadata": {},
   "source": [
    "## Algoritmo SGD con tamaño de paso automático"
   ]
  },
  {
   "cell_type": "code",
   "execution_count": 12,
   "id": "a81adf82",
   "metadata": {},
   "outputs": [],
   "source": [
    "cost_SGD_auto, score_count_SGD_auto, time_epoch_SGD_auto, W_SGD_auto, alpha_auto = multinominalLR_SGD_auto(X, W_init, Y, N_epochs, n_blocks, k, L, r, alpha_SGD, auto_scale)"
   ]
  },
  {
   "cell_type": "markdown",
   "id": "2074d284",
   "metadata": {},
   "source": [
    "## Algoritmo SGD con tamaño de paso automático con límites"
   ]
  },
  {
   "cell_type": "code",
   "execution_count": 13,
   "id": "68013b72",
   "metadata": {},
   "outputs": [],
   "source": [
    "cost_SGD_auto_lim, score_count_SGD_auto_lim, time_epoch_SGD_auto_lim, W_SGD_auto_lim, alpha_auto_lim = multinominalLR_SGD_auto_lim(X, W_init, Y, N_epochs, n_blocks, k, L, r, alpha_SGD, maxlim, auto_scale)"
   ]
  },
  {
   "cell_type": "markdown",
   "id": "1319a4f9",
   "metadata": {},
   "source": [
    "## Algoritmo SGD ADAM"
   ]
  },
  {
   "cell_type": "code",
   "execution_count": 14,
   "id": "4c4bfbfe",
   "metadata": {},
   "outputs": [],
   "source": [
    "cost_SGD_ADAM, score_count_SGD_ADAM, time_epoch_SGD_ADAM, W_SGD_ADAM = multinominalLR_SGD_ADAM(X, W_init, Y, beta1, beta2, eps, N_epochs, n_blocks, k, L, r, alpha_SGD_ADAM)"
   ]
  },
  {
   "cell_type": "markdown",
   "id": "d754745e",
   "metadata": {},
   "source": [
    "## Probar accuaracy SGD"
   ]
  },
  {
   "cell_type": "code",
   "execution_count": 15,
   "id": "ede37cdf",
   "metadata": {},
   "outputs": [
    {
     "name": "stdout",
     "output_type": "stream",
     "text": [
      "Accuaracy de train data:\n",
      "0.8648333333333333\n"
     ]
    }
   ],
   "source": [
    "print(\"Accuaracy de train data:\")\n",
    "Z = -X @ W_SGD\n",
    "accuaracy_fun(X, W_SGD, Y, N, Z)"
   ]
  },
  {
   "cell_type": "code",
   "execution_count": 16,
   "id": "506de37e",
   "metadata": {},
   "outputs": [
    {
     "name": "stdout",
     "output_type": "stream",
     "text": [
      "Accuaracy de test data:\n",
      "0.8749\n"
     ]
    },
    {
     "data": {
      "image/png": "[encoded data removed]",
      "text/plain": [
       "<Figure size 432x288 with 1 Axes>"
      ]
     },
     "metadata": {
      "needs_background": "light"
     },
     "output_type": "display_data"
    },
    {
     "name": "stdout",
     "output_type": "stream",
     "text": [
      "[ 0.4792543   0.01845967  1.15907732  0.18198727 13.52356994  0.27498833\n",
      "  0.79920794  1.19577382  0.85920156  2.60344827]\n",
      "4\n",
      "4.0\n"
     ]
    },
    {
     "data": {
      "image/png": "[encoded data removed]",
      "text/plain": [
       "<Figure size 432x288 with 1 Axes>"
      ]
     },
     "metadata": {
      "needs_background": "light"
     },
     "output_type": "display_data"
    },
    {
     "name": "stdout",
     "output_type": "stream",
     "text": [
      "[ 0.25231023 13.45592862  0.93578198  0.98618607  0.30012814  0.67160793\n",
      "  0.79496206  0.63847577  1.03550545  0.64083812]\n",
      "1\n",
      "1.0\n"
     ]
    },
    {
     "data": {
      "image/png": "[encoded data removed]",
      "text/plain": [
       "<Figure size 432x288 with 1 Axes>"
      ]
     },
     "metadata": {
      "needs_background": "light"
     },
     "output_type": "display_data"
    },
    {
     "name": "stdout",
     "output_type": "stream",
     "text": [
      "[ 0.03074587  0.07205452  0.08830152  0.33375441  7.19519745  0.75734214\n",
      "  0.55545382  0.58133113  0.77057983 23.49059504]\n",
      "9\n",
      "9.0\n"
     ]
    }
   ],
   "source": [
    "print(\"Accuaracy de test data:\")\n",
    "Z_test = -X_test @ W_SGD\n",
    "accuaracy_fun(X_test, W_SGD, Y_test, N_test, Z_test)\n",
    "\n",
    "test_data_hat_comparison(X_test, W_SGD, Y_test, 4, data_len, data_len, k)\n",
    "test_data_hat_comparison(X_test, W_SGD, Y_test, 40, data_len, data_len, k)\n",
    "test_data_hat_comparison(X_test, W_SGD, Y_test, 4240, data_len, data_len, k)"
   ]
  },
  {
   "cell_type": "markdown",
   "id": "26468a43",
   "metadata": {},
   "source": [
    "## Probar accuaracy SGD con tamaño de paso automático"
   ]
  },
  {
   "cell_type": "code",
   "execution_count": 17,
   "id": "1e762694",
   "metadata": {},
   "outputs": [
    {
     "name": "stdout",
     "output_type": "stream",
     "text": [
      "Accuaracy de train data:\n",
      "0.9062166666666667\n"
     ]
    }
   ],
   "source": [
    "print(\"Accuaracy de train data:\")\n",
    "Z = -X @ W_SGD_auto\n",
    "accuaracy_fun(X, W_SGD_auto, Y, N, Z)"
   ]
  },
  {
   "cell_type": "code",
   "execution_count": 18,
   "id": "955fe876",
   "metadata": {},
   "outputs": [
    {
     "name": "stdout",
     "output_type": "stream",
     "text": [
      "Accuaracy de test data:\n",
      "0.9109\n"
     ]
    },
    {
     "data": {
      "image/png": "[encoded data removed]",
      "text/plain": [
       "<Figure size 432x288 with 1 Axes>"
      ]
     },
     "metadata": {
      "needs_background": "light"
     },
     "output_type": "display_data"
    },
    {
     "name": "stdout",
     "output_type": "stream",
     "text": [
      "[2.23009703e-01 2.90023992e-03 1.15248684e+00 8.16168894e-02\n",
      " 1.02636180e+02 1.06816604e-01 9.80763207e-01 1.73362804e+00\n",
      " 1.90009339e+00 6.88484063e+00]\n",
      "4\n",
      "4.0\n"
     ]
    },
    {
     "data": {
      "image/png": "[encoded data removed]",
      "text/plain": [
       "<Figure size 432x288 with 1 Axes>"
      ]
     },
     "metadata": {
      "needs_background": "light"
     },
     "output_type": "display_data"
    },
    {
     "name": "stdout",
     "output_type": "stream",
     "text": [
      "[5.57194807e-02 8.97984087e+01 1.36449605e+00 1.43669016e+00\n",
      " 9.59894529e-02 5.33654306e-01 6.76131125e-01 4.80788407e-01\n",
      " 1.80552645e+00 7.21294737e-01]\n",
      "1\n",
      "1.0\n"
     ]
    },
    {
     "data": {
      "image/png": "[encoded data removed]",
      "text/plain": [
       "<Figure size 432x288 with 1 Axes>"
      ]
     },
     "metadata": {
      "needs_background": "light"
     },
     "output_type": "display_data"
    },
    {
     "name": "stdout",
     "output_type": "stream",
     "text": [
      "[1.08614849e-03 2.94347624e-02 3.12171121e-02 2.83185705e-01\n",
      " 3.99635728e+01 8.62774510e-01 1.95381768e-01 4.33062568e-01\n",
      " 4.13494175e+00 6.09932494e+02]\n",
      "9\n",
      "9.0\n"
     ]
    }
   ],
   "source": [
    "print(\"Accuaracy de test data:\")\n",
    "Z_test = -X_test @ W_SGD_auto\n",
    "accuaracy_fun(X_test, W_SGD_auto, Y_test, N_test, Z_test)\n",
    "\n",
    "test_data_hat_comparison(X_test, W_SGD_auto, Y_test, 4, data_len, data_len, k)\n",
    "test_data_hat_comparison(X_test, W_SGD_auto, Y_test, 40, data_len, data_len, k)\n",
    "test_data_hat_comparison(X_test, W_SGD_auto, Y_test, 4240, data_len, data_len, k)"
   ]
  },
  {
   "cell_type": "markdown",
   "id": "33ae7d2c",
   "metadata": {},
   "source": [
    "## Probar accuaracy SGD ADAM"
   ]
  },
  {
   "cell_type": "code",
   "execution_count": 19,
   "id": "1a43e7a0",
   "metadata": {},
   "outputs": [
    {
     "name": "stdout",
     "output_type": "stream",
     "text": [
      "Accuaracy de train data:\n",
      "0.9325666666666667\n"
     ]
    }
   ],
   "source": [
    "print(\"Accuaracy de train data:\")\n",
    "Z = -X @ W_SGD_ADAM\n",
    "accuaracy_fun(X, W_SGD_ADAM, Y, N, Z)"
   ]
  },
  {
   "cell_type": "code",
   "execution_count": 20,
   "id": "8866f451",
   "metadata": {},
   "outputs": [
    {
     "name": "stdout",
     "output_type": "stream",
     "text": [
      "Accuaracy de test data:\n",
      "0.9265\n"
     ]
    },
    {
     "data": {
      "image/png": "[encoded data removed]",
      "text/plain": [
       "<Figure size 432x288 with 1 Axes>"
      ]
     },
     "metadata": {
      "needs_background": "light"
     },
     "output_type": "display_data"
    },
    {
     "name": "stdout",
     "output_type": "stream",
     "text": [
      "[6.48994546e-02 5.95633558e-06 1.89298194e-01 3.30959539e-03\n",
      " 1.37985942e+02 4.95049454e-03 2.84985889e-01 2.14998457e-01\n",
      " 9.88645056e-01 3.63907572e+00]\n",
      "4\n",
      "4.0\n"
     ]
    },
    {
     "data": {
      "image/png": "[encoded data removed]",
      "text/plain": [
       "<Figure size 432x288 with 1 Axes>"
      ]
     },
     "metadata": {
      "needs_background": "light"
     },
     "output_type": "display_data"
    },
    {
     "name": "stdout",
     "output_type": "stream",
     "text": [
      "[1.40041902e-03 2.04046503e+02 9.60146031e-01 1.65055231e+00\n",
      " 6.15336911e-03 1.79652679e-01 3.18198873e-01 2.32425831e-01\n",
      " 1.14880555e+00 4.82755380e-01]\n",
      "1\n",
      "1.0\n"
     ]
    },
    {
     "data": {
      "image/png": "[encoded data removed]",
      "text/plain": [
       "<Figure size 432x288 with 1 Axes>"
      ]
     },
     "metadata": {
      "needs_background": "light"
     },
     "output_type": "display_data"
    },
    {
     "name": "stdout",
     "output_type": "stream",
     "text": [
      "[1.66297350e-08 1.61687430e-03 1.24437243e-04 1.79704434e-02\n",
      " 3.51936410e+00 2.02587464e-02 9.45671637e-05 6.45559542e-03\n",
      " 3.21552285e-01 3.33826762e+02]\n",
      "9\n",
      "9.0\n"
     ]
    }
   ],
   "source": [
    "print(\"Accuaracy de test data:\")\n",
    "Z_test = -X_test @ W_SGD_ADAM\n",
    "accuaracy_fun(X_test, W_SGD_ADAM, Y_test, N_test, Z_test)\n",
    "\n",
    "test_data_hat_comparison(X_test, W_SGD_ADAM, Y_test, 4, data_len, data_len, k)\n",
    "test_data_hat_comparison(X_test, W_SGD_ADAM, Y_test, 40, data_len, data_len, k)\n",
    "test_data_hat_comparison(X_test, W_SGD_ADAM, Y_test, 4240, data_len, data_len, k)"
   ]
  },
  {
   "cell_type": "markdown",
   "id": "6eeaec18",
   "metadata": {},
   "source": [
    "## Gráficos de comparación con métodos adaptativos"
   ]
  },
  {
   "cell_type": "code",
   "execution_count": 21,
   "id": "05348b73",
   "metadata": {},
   "outputs": [
    {
     "data": {
      "image/png": "[encoded data removed]",
      "text/plain": [
       "<Figure size 432x288 with 1 Axes>"
      ]
     },
     "metadata": {
      "needs_background": "light"
     },
     "output_type": "display_data"
    }
   ],
   "source": [
    "plt.plot(cost_SGD,label='SGD')\n",
    "plt.plot(cost_SGD_auto,label='SGD step auto')\n",
    "plt.plot(cost_SGD_auto_lim,label='SGD step auto lim sup')\n",
    "plt.plot(cost_SGD_ADAM,label='ADAM')\n",
    "\n",
    "plt.grid('on')\n",
    "plt.xlabel('Epoch')\n",
    "plt.ylabel('Cost Function')\n",
    "plt.legend(loc='upper right')\n",
    "plt.savefig('Cost1.png', dpi=300)\n",
    "plt.show()"
   ]
  },
  {
   "cell_type": "code",
   "execution_count": 22,
   "id": "a56b5566",
   "metadata": {},
   "outputs": [
    {
     "data": {
      "image/png": "[encoded data removed]",
      "text/plain": [
       "<Figure size 432x288 with 1 Axes>"
      ]
     },
     "metadata": {
      "needs_background": "light"
     },
     "output_type": "display_data"
    }
   ],
   "source": [
    "plt.plot(score_count_SGD/60000,label='SGD')\n",
    "plt.plot(score_count_SGD_auto/60000,label='SGD step auto')\n",
    "plt.plot(score_count_SGD_auto_lim/60000,label='SGD step auto lim sup')\n",
    "plt.plot(score_count_SGD_ADAM/60000,label='ADAM')\n",
    "\n",
    "plt.grid('on')\n",
    "plt.xlabel('Epoch')\n",
    "plt.ylabel('Accuaracy')\n",
    "plt.legend(loc='lower right')\n",
    "plt.savefig('Accuaracy1.png', dpi=300)\n",
    "plt.show()"
   ]
  },
  {
   "cell_type": "markdown",
   "id": "e274a48d",
   "metadata": {},
   "source": [
    "## Gráficos de comparación en el tiempo"
   ]
  },
  {
   "cell_type": "code",
   "execution_count": 23,
   "id": "a7c76c59",
   "metadata": {},
   "outputs": [
    {
     "data": {
      "image/png": "[encoded data removed]",
      "text/plain": [
       "<Figure size 432x288 with 1 Axes>"
      ]
     },
     "metadata": {
      "needs_background": "light"
     },
     "output_type": "display_data"
    }
   ],
   "source": [
    "plt.plot(time_epoch_SGD, cost_SGD,label='SGD')\n",
    "plt.plot(time_epoch_SGD_auto, cost_SGD_auto,label='SGD step auto lim')\n",
    "plt.plot(time_epoch_SGD_auto_lim, cost_SGD_auto_lim,label='SGD step auto lim sup')\n",
    "plt.plot(time_epoch_SGD, cost_SGD_ADAM,label='ADAM')\n",
    "\n",
    "\n",
    "plt.grid('on')\n",
    "plt.xlabel('Time')\n",
    "plt.ylabel('Cost Function')\n",
    "plt.legend(loc='upper right')\n",
    "plt.xlim([0,15])\n",
    "plt.savefig('TimeCost1.png', dpi=300)\n",
    "plt.show()"
   ]
  },
  {
   "cell_type": "code",
   "execution_count": 24,
   "id": "dedbee12",
   "metadata": {},
   "outputs": [
    {
     "data": {
      "image/png": "[encoded data removed]",
      "text/plain": [
       "<Figure size 432x288 with 1 Axes>"
      ]
     },
     "metadata": {
      "needs_background": "light"
     },
     "output_type": "display_data"
    }
   ],
   "source": [
    "plt.plot(time_epoch_SGD, score_count_SGD/60000,label='SGD')\n",
    "plt.plot(time_epoch_SGD_auto, score_count_SGD_auto/60000,label='SGD step auto lim')\n",
    "plt.plot(time_epoch_SGD_auto_lim, score_count_SGD_auto_lim/60000,label='SGD step auto lim sup')\n",
    "plt.plot(time_epoch_SGD_ADAM, score_count_SGD_ADAM/60000,label='ADAM')\n",
    "\n",
    "plt.grid('on')\n",
    "plt.xlabel('Time')\n",
    "plt.ylabel('Accuaracy')\n",
    "plt.legend(loc='lower right')\n",
    "plt.xlim([0,15])\n",
    "plt.savefig('TimeAccuaracy1.png', dpi=300)\n",
    "plt.show()\n"
   ]
  },
  {
   "cell_type": "code",
   "execution_count": null,
   "id": "e2d5ccc0",
   "metadata": {},
   "outputs": [],
   "source": []
  },
  {
   "cell_type": "markdown",
   "id": "198e55d3",
   "metadata": {},
   "source": [
    "## AUTO"
   ]
  },
  {
   "cell_type": "code",
   "execution_count": 25,
   "id": "6fc97993",
   "metadata": {
    "scrolled": true
   },
   "outputs": [
    {
     "data": {
      "image/png": "[encoded data removed]",
      "text/plain": [
       "<Figure size 432x288 with 1 Axes>"
      ]
     },
     "metadata": {
      "needs_background": "light"
     },
     "output_type": "display_data"
    }
   ],
   "source": [
    "plt.plot(alpha_auto,label='Alpha Auto')\n",
    "\n",
    "plt.grid('on')\n",
    "plt.xlabel('Iteración')\n",
    "plt.ylabel('Tamaño de paso')\n",
    "plt.legend(loc='lower right')\n",
    "plt.show()\n"
   ]
  },
  {
   "cell_type": "code",
   "execution_count": 26,
   "id": "c96c3eb4",
   "metadata": {},
   "outputs": [
    {
     "data": {
      "image/png": "[encoded data removed]",
      "text/plain": [
       "<Figure size 432x288 with 1 Axes>"
      ]
     },
     "metadata": {
      "needs_background": "light"
     },
     "output_type": "display_data"
    }
   ],
   "source": [
    "plt.plot(alpha_auto,label='Alpha Auto')\n",
    "\n",
    "plt.grid('on')\n",
    "plt.xlabel('Iteración')\n",
    "plt.ylabel('Tamaño de paso')\n",
    "plt.legend(loc='lower right')\n",
    "plt.ylim(0, maxlim*10) \n",
    "plt.show()"
   ]
  },
  {
   "cell_type": "code",
   "execution_count": 27,
   "id": "95730cc9",
   "metadata": {},
   "outputs": [],
   "source": [
    "## AUTO LIM"
   ]
  },
  {
   "cell_type": "code",
   "execution_count": 28,
   "id": "dab9a716",
   "metadata": {},
   "outputs": [
    {
     "data": {
      "image/png": "[encoded data removed]",
      "text/plain": [
       "<Figure size 432x288 with 1 Axes>"
      ]
     },
     "metadata": {
      "needs_background": "light"
     },
     "output_type": "display_data"
    }
   ],
   "source": [
    "plt.plot(alpha_auto_lim,label='Alpha Auto')\n",
    "\n",
    "plt.grid('on')\n",
    "plt.xlabel('Iteración')\n",
    "plt.ylabel('Tamaño de paso')\n",
    "plt.legend(loc='lower right')\n",
    "plt.show()\n"
   ]
  },
  {
   "cell_type": "code",
   "execution_count": 29,
   "id": "9752090e",
   "metadata": {},
   "outputs": [
    {
     "data": {
      "image/png": "[encoded data removed]",
      "text/plain": [
       "<Figure size 432x288 with 1 Axes>"
      ]
     },
     "metadata": {
      "needs_background": "light"
     },
     "output_type": "display_data"
    }
   ],
   "source": [
    "plt.plot(alpha_auto_lim,label='Alpha Auto')\n",
    "\n",
    "plt.grid('on')\n",
    "plt.xlabel('Iteración')\n",
    "plt.ylabel('Tamaño de paso')\n",
    "plt.legend(loc='lower right')\n",
    "plt.ylim(-maxlim - maxlim/2, maxlim*2) \n",
    "plt.show()"
   ]
  }
 ],
 "metadata": {
  "kernelspec": {
   "display_name": "Python 3 (ipykernel)",
   "language": "python",
   "name": "python3"
  },
  "language_info": {
   "codemirror_mode": {
    "name": "ipython",
    "version": 3
   },
   "file_extension": ".py",
   "mimetype": "text/x-python",
   "name": "python",
   "nbconvert_exporter": "python",
   "pygments_lexer": "ipython3",
   "version": "3.10.0"
  }
 },
 "nbformat": 4,
 "nbformat_minor": 5
}
