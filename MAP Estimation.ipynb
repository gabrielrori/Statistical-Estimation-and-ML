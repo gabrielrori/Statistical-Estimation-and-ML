{
 "cells": [
  {
   "cell_type": "markdown",
   "id": "87811ecf",
   "metadata": {},
   "source": [
    "# MAP Estimation"
   ]
  },
  {
   "cell_type": "code",
   "execution_count": 1,
   "id": "embedded-winter",
   "metadata": {},
   "outputs": [],
   "source": [
    "import numpy as np\n",
    "import matplotlib.pyplot as plt"
   ]
  },
  {
   "cell_type": "markdown",
   "id": "sufficient-method",
   "metadata": {},
   "source": [
    "#### Se define la señal x[n] y los parámetros del prior"
   ]
  },
  {
   "cell_type": "code",
   "execution_count": 2,
   "id": "selected-chinese",
   "metadata": {},
   "outputs": [],
   "source": [
    "N = 10\n",
    "A = 1\n",
    "sigma = 1\n",
    "wn = sigma*np.random.randn(N)\n",
    "xn = A + wn\n",
    "A_o = 2"
   ]
  },
  {
   "cell_type": "code",
   "execution_count": 3,
   "id": "serious-great",
   "metadata": {},
   "outputs": [
    {
     "data": {
      "image/png": "[encoded data removed]",
      "text/plain": [
       "<Figure size 432x288 with 1 Axes>"
      ]
     },
     "metadata": {
      "needs_background": "light"
     },
     "output_type": "display_data"
    }
   ],
   "source": [
    "plt.plot(xn,'o')\n",
    "plt.plot([0,N-1],[A,A],'--')\n",
    "plt.grid('on')\n",
    "plt.xlabel('$n$')\n",
    "plt.ylabel('$x[n]$')\n",
    "plt.legend(['$x[n]$','A']);"
   ]
  },
  {
   "cell_type": "markdown",
   "id": "88aa1ae2",
   "metadata": {},
   "source": [
    "#### Se halla: $p(A|x)=\\frac{p(x|A)p(A)}{\\int p(x|A)p(A)dA}$"
   ]
  },
  {
   "cell_type": "code",
   "execution_count": 4,
   "id": "resistant-panic",
   "metadata": {},
   "outputs": [
    {
     "data": {
      "image/png": "[encoded data removed]",
      "text/plain": [
       "<Figure size 432x288 with 1 Axes>"
      ]
     },
     "metadata": {
      "needs_background": "light"
     },
     "output_type": "display_data"
    }
   ],
   "source": [
    "NA = 10001\n",
    "Am = np.linspace(-2.5,2.5,num=NA)\n",
    "dA = (Am[NA-1]-Am[0])/(NA-1)\n",
    "pxA = np.zeros(NA)\n",
    "for m in range(NA):\n",
    "    pxA[m] = np.exp(-np.sum((xn-Am[m])**2)/(2*sigma**2))\n",
    "pA = 1*(np.abs(Am)<A_o) / (2*A_o)\n",
    "pAx = pxA*pA / (np.sum(pxA*pA)*dA)\n",
    "\n",
    "plt.figure()\n",
    "plt.plot(Am,pAx)\n",
    "plt.xlabel('A')\n",
    "plt.ylabel('$p(A|\\mathbf{x})$')\n",
    "plt.grid('on')"
   ]
  },
  {
   "cell_type": "markdown",
   "id": "7c882de5",
   "metadata": {},
   "source": [
    "Se estima A por medio de MAP: $\\hat{A}_{MAP}=\\text{arg}\\text{max}_{A}p(A|x)$"
   ]
  },
  {
   "cell_type": "code",
   "execution_count": 5,
   "id": "5156f8a0",
   "metadata": {},
   "outputs": [
    {
     "name": "stdout",
     "output_type": "stream",
     "text": [
      "1.254\n"
     ]
    }
   ],
   "source": [
    "A_map = Am[np.argmax(pAx)]\n",
    "print(A_map)\n"
   ]
  },
  {
   "cell_type": "markdown",
   "id": "3a67a0ca",
   "metadata": {},
   "source": [
    "#### Se puede observar el corte en el gráfico y cómo el estimador no permite valores mayores ni menores a los del conocimiento de de A. Además, se obtiene un valor de 1.254 para el valor que maximiza la probabilidad del estimador MAP. Adicionalmente, el conocimiento de la distribución de A ayudan levemente debido a que la varianza del ruido es 1 y la señal muy raramente llega a valores menores y mayores de 2."
   ]
  },
  {
   "cell_type": "code",
   "execution_count": null,
   "id": "131047b4",
   "metadata": {},
   "outputs": [],
   "source": []
  }
 ],
 "metadata": {
  "kernelspec": {
   "display_name": "Python 3 (ipykernel)",
   "language": "python",
   "name": "python3"
  },
  "language_info": {
   "codemirror_mode": {
    "name": "ipython",
    "version": 3
   },
   "file_extension": ".py",
   "mimetype": "text/x-python",
   "name": "python",
   "nbconvert_exporter": "python",
   "pygments_lexer": "ipython3",
   "version": "3.10.0"
  }
 },
 "nbformat": 4,
 "nbformat_minor": 5
}
