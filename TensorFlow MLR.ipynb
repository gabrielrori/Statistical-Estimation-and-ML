{
 "cells": [
  {
   "cell_type": "markdown",
   "id": "4d991c5e",
   "metadata": {},
   "source": [
    "# SGD Regresión logística multinomial Tensorflow"
   ]
  },
  {
   "cell_type": "markdown",
   "id": "67153879",
   "metadata": {},
   "source": [
    "## Importar las librerías"
   ]
  },
  {
   "cell_type": "code",
   "execution_count": 1,
   "id": "d125ba6b",
   "metadata": {},
   "outputs": [],
   "source": [
    "import tensorflow as tf\n",
    "from tensorflow import keras\n",
    "import numpy as np\n",
    "import time\n",
    "from SGD_fun import *\n",
    "import matplotlib.pyplot as plt\n",
    "%matplotlib inline"
   ]
  },

  {
   "cell_type": "markdown",
   "id": "1c0535d8",
   "metadata": {},
   "source": [
    "## Leer el dataset"
   ]
  },
  {
   "cell_type": "code",
   "execution_count": 3,
   "id": "52d614ab",
   "metadata": {},
   "outputs": [],
   "source": [
    "(x_train, y_train), (x_test, y_test) = keras.datasets.mnist.load_data()\n",
    "\n",
    "x_train = x_train / 255\n",
    "x_test = x_test / 255\n",
    "\n",
    "x_train_flattened = x_train.reshape(len(x_train), 28*28)\n",
    "x_test_flattened = x_test.reshape(len(x_test), 28*28)"
   ]
  },
  {
   "cell_type": "markdown",
   "id": "96887fb5",
   "metadata": {},
   "source": [
    "## Crear callback para almacenar el tiempo"
   ]
  },
  {
   "cell_type": "code",
   "execution_count": 4,
   "id": "3912659e",
   "metadata": {},
   "outputs": [],
   "source": [
    "class TimeHistory(keras.callbacks.Callback):\n",
    "    def on_train_begin(self, logs={}):\n",
    "        self.times = []\n",
    "    def on_epoch_begin(self, batch, logs={}):\n",
    "        self.epoch_time_start = time.time()\n",
    "    def on_epoch_end(self, batch, logs={}):\n",
    "        self.times.append(time.time() - self.epoch_time_start)"
   ]
  },
  {
   "cell_type": "markdown",
   "id": "43a71fa7",
   "metadata": {},
   "source": [
    "## Definir el modelo y entrenarlo"
   ]
  },
  {
   "cell_type": "code",
   "execution_count": 5,
   "id": "f3ce73d7",
   "metadata": {},
   "outputs": [
    {
     "name": "stdout",
     "output_type": "stream",
     "text": [
      "Epoch 1/50\n",
      "600/600 [==============================] - 7s 1ms/step - loss: 0.6374 - accuracy: 0.8408\n",
      "Epoch 2/50\n",
      "600/600 [==============================] - 1s 1ms/step - loss: 0.3476 - accuracy: 0.9050\n",
      "Epoch 3/50\n",
      "600/600 [==============================] - 1s 1ms/step - loss: 0.3104 - accuracy: 0.9144\n",
      "Epoch 4/50\n",
      "600/600 [==============================] - 1s 1ms/step - loss: 0.2927 - accuracy: 0.9185\n",
      "Epoch 5/50\n",
      "600/600 [==============================] - 1s 1ms/step - loss: 0.2826 - accuracy: 0.9214\n",
      "Epoch 6/50\n",
      "600/600 [==============================] - 1s 2ms/step - loss: 0.2752 - accuracy: 0.9226\n",
      "Epoch 7/50\n",
      "600/600 [==============================] - 1s 1ms/step - loss: 0.2700 - accuracy: 0.9246\n",
      "Epoch 8/50\n",
      "600/600 [==============================] - 1s 1ms/step - loss: 0.2655 - accuracy: 0.9262\n",
      "Epoch 9/50\n",
      "600/600 [==============================] - 1s 1ms/step - loss: 0.2623 - accuracy: 0.9270\n",
      "Epoch 10/50\n",
      "600/600 [==============================] - 1s 1ms/step - loss: 0.2592 - accuracy: 0.9279\n",
      "Epoch 11/50\n",
      "600/600 [==============================] - 1s 1ms/step - loss: 0.2569 - accuracy: 0.9291\n",
      "Epoch 12/50\n",
      "600/600 [==============================] - 1s 1ms/step - loss: 0.2549 - accuracy: 0.9289\n",
      "Epoch 13/50\n",
      "600/600 [==============================] - 1s 1ms/step - loss: 0.2530 - accuracy: 0.9295\n",
      "Epoch 14/50\n",
      "600/600 [==============================] - 1s 1ms/step - loss: 0.2518 - accuracy: 0.9304\n",
      "Epoch 15/50\n",
      "600/600 [==============================] - 1s 1ms/step - loss: 0.2502 - accuracy: 0.9302\n",
      "Epoch 16/50\n",
      "600/600 [==============================] - 1s 1ms/step - loss: 0.2488 - accuracy: 0.9315\n",
      "Epoch 17/50\n",
      "600/600 [==============================] - 1s 1ms/step - loss: 0.2477 - accuracy: 0.9316\n",
      "Epoch 18/50\n",
      "600/600 [==============================] - 1s 1ms/step - loss: 0.2462 - accuracy: 0.9320\n",
      "Epoch 19/50\n",
      "600/600 [==============================] - 1s 1ms/step - loss: 0.2454 - accuracy: 0.9323\n",
      "Epoch 20/50\n",
      "600/600 [==============================] - 1s 1ms/step - loss: 0.2444 - accuracy: 0.9322\n",
      "Epoch 21/50\n",
      "600/600 [==============================] - 1s 1ms/step - loss: 0.2435 - accuracy: 0.9332\n",
      "Epoch 22/50\n",
      "600/600 [==============================] - 1s 1ms/step - loss: 0.2428 - accuracy: 0.9331\n",
      "Epoch 23/50\n",
      "600/600 [==============================] - 1s 1ms/step - loss: 0.2416 - accuracy: 0.9337\n",
      "Epoch 24/50\n",
      "600/600 [==============================] - 1s 1ms/step - loss: 0.2410 - accuracy: 0.9333\n",
      "Epoch 25/50\n",
      "600/600 [==============================] - 1s 1ms/step - loss: 0.2405 - accuracy: 0.9338\n",
      "Epoch 26/50\n",
      "600/600 [==============================] - 1s 1ms/step - loss: 0.2397 - accuracy: 0.9340\n",
      "Epoch 27/50\n",
      "600/600 [==============================] - 1s 1ms/step - loss: 0.2392 - accuracy: 0.9339\n",
      "Epoch 28/50\n",
      "600/600 [==============================] - 1s 1ms/step - loss: 0.2385 - accuracy: 0.9343\n",
      "Epoch 29/50\n",
      "600/600 [==============================] - 1s 1ms/step - loss: 0.2377 - accuracy: 0.9346\n",
      "Epoch 30/50\n",
      "600/600 [==============================] - 1s 1ms/step - loss: 0.2376 - accuracy: 0.9344\n",
      "Epoch 31/50\n",
      "600/600 [==============================] - 1s 1ms/step - loss: 0.2370 - accuracy: 0.9352\n",
      "Epoch 32/50\n",
      "600/600 [==============================] - 1s 1ms/step - loss: 0.2366 - accuracy: 0.9346\n",
      "Epoch 33/50\n",
      "600/600 [==============================] - 1s 1ms/step - loss: 0.2359 - accuracy: 0.9350\n",
      "Epoch 34/50\n",
      "600/600 [==============================] - 1s 1ms/step - loss: 0.2357 - accuracy: 0.9354\n",
      "Epoch 35/50\n",
      "600/600 [==============================] - 1s 1ms/step - loss: 0.2353 - accuracy: 0.9344\n",
      "Epoch 36/50\n",
      "600/600 [==============================] - 1s 1ms/step - loss: 0.2350 - accuracy: 0.9350\n",
      "Epoch 37/50\n",
      "600/600 [==============================] - 1s 1ms/step - loss: 0.2342 - accuracy: 0.9353\n",
      "Epoch 38/50\n",
      "600/600 [==============================] - 1s 1ms/step - loss: 0.2342 - accuracy: 0.9353\n",
      "Epoch 39/50\n",
      "600/600 [==============================] - 1s 1ms/step - loss: 0.2339 - accuracy: 0.9355\n",
      "Epoch 40/50\n",
      "600/600 [==============================] - 1s 1ms/step - loss: 0.2332 - accuracy: 0.9363\n",
      "Epoch 41/50\n",
      "600/600 [==============================] - 1s 1ms/step - loss: 0.2330 - accuracy: 0.9361\n",
      "Epoch 42/50\n",
      "600/600 [==============================] - 1s 1ms/step - loss: 0.2326 - accuracy: 0.9359\n",
      "Epoch 43/50\n",
      "600/600 [==============================] - 1s 1ms/step - loss: 0.2322 - accuracy: 0.9358\n",
      "Epoch 44/50\n",
      "600/600 [==============================] - 1s 1ms/step - loss: 0.2318 - accuracy: 0.9361\n",
      "Epoch 45/50\n",
      "600/600 [==============================] - 1s 1ms/step - loss: 0.2317 - accuracy: 0.9356\n",
      "Epoch 46/50\n",
      "600/600 [==============================] - 1s 1ms/step - loss: 0.2316 - accuracy: 0.9357\n",
      "Epoch 47/50\n",
      "600/600 [==============================] - 1s 1ms/step - loss: 0.2314 - accuracy: 0.9361\n",
      "Epoch 48/50\n",
      "600/600 [==============================] - 1s 1ms/step - loss: 0.2311 - accuracy: 0.9364\n",
      "Epoch 49/50\n",
      "600/600 [==============================] - 1s 1ms/step - loss: 0.2308 - accuracy: 0.9364\n",
      "Epoch 50/50\n",
      "600/600 [==============================] - 1s 1ms/step - loss: 0.2303 - accuracy: 0.9365\n"
     ]
    }
   ],
   "source": [
    "model = keras.Sequential([\n",
    "    keras.layers.Dense(10, input_shape=(784,), activation='sigmoid')\n",
    "])\n",
    "\n",
    "model.compile(\n",
    "    optimizer='adam',\n",
    "    loss='sparse_categorical_crossentropy',\n",
    "    metrics=['accuracy']\n",
    ")\n",
    "\n",
    "n_epochs = 50\n",
    "time_callback = TimeHistory()\n",
    "history = model.fit(x_train_flattened, y_train, batch_size=100, epochs=n_epochs,callbacks=[time_callback])\n",
    "times = time_callback.times"
   ]
  },
  {
   "cell_type": "markdown",
   "id": "07b35a7c",
   "metadata": {},
   "source": [
    "## Evaluar"
   ]
  },
  {
   "cell_type": "code",
   "execution_count": 6,
   "id": "be3ba3af",
   "metadata": {},
   "outputs": [
    {
     "name": "stdout",
     "output_type": "stream",
     "text": [
      "313/313 [==============================] - 0s 738us/step\n",
      "[1.7164322e-04 1.5833092e-10 1.0424764e-03 9.8910731e-01 1.9957067e-03\n",
      " 2.7575845e-01 4.4339585e-10 9.9996138e-01 1.4143826e-01 7.9692078e-01]\n",
      "7\n"
     ]
    },
    {
     "data": {
      "image/png": "[encoded data removed]",
      "text/plain": [
       "<Figure size 288x288 with 1 Axes>"
      ]
     },
     "metadata": {
      "needs_background": "light"
     },
     "output_type": "display_data"
    }
   ],
   "source": [
    "plt.matshow(x_test[0])\n",
    "\n",
    "y_predicted = model.predict(x_test_flattened)\n",
    "print(y_predicted[0])\n",
    "print(np.argmax(y_predicted[0]))"
   ]
  },
  {
   "cell_type": "markdown",
   "id": "c245d7bd",
   "metadata": {},
   "source": [
    "## Gráficos"
   ]
  },
  {
   "cell_type": "markdown",
   "id": "20e9b2e5",
   "metadata": {},
   "source": [
    "## Función de Costo"
   ]
  },
  {
   "cell_type": "code",
   "execution_count": 7,
   "id": "d546c877",
   "metadata": {},
   "outputs": [
    {
     "data": {
      "image/png": "[encoded data removed]",
      "text/plain": [
       "<Figure size 432x288 with 1 Axes>"
      ]
     },
     "metadata": {
      "needs_background": "light"
     },
     "output_type": "display_data"
    }
   ],
   "source": [
    "plt.plot(history.history['loss'])\n",
    "plt.grid('on')\n",
    "plt.xlabel('Epoch')\n",
    "plt.ylabel('Función de Costo')\n",
    "plt.show()"
   ]
  },
  {
   "cell_type": "markdown",
   "id": "240c38f6",
   "metadata": {},
   "source": [
    "## Número de aciertos"
   ]
  },
  {
   "cell_type": "code",
   "execution_count": 8,
   "id": "835d1483",
   "metadata": {},
   "outputs": [
    {
     "data": {
      "image/png": "[encoded data removed]",
      "text/plain": [
       "<Figure size 432x288 with 1 Axes>"
      ]
     },
     "metadata": {
      "needs_background": "light"
     },
     "output_type": "display_data"
    }
   ],
   "source": [
    "plt.plot(history.history['accuracy'])\n",
    "plt.grid('on')\n",
    "plt.xlabel('Epoch')\n",
    "plt.ylabel('Número de aciertos')\n",
    "plt.show()"
   ]
  },
  {
   "cell_type": "markdown",
   "id": "1183ded3",
   "metadata": {},
   "source": [
    "## Función de costo - Cuenta de aciertos"
   ]
  },
  {
   "cell_type": "markdown",
   "id": "a76faaa4",
   "metadata": {},
   "source": [
    "## Tiempo - Función de Costo"
   ]
  },
  {
   "cell_type": "code",
   "execution_count": 9,
   "id": "034e09ce",
   "metadata": {},
   "outputs": [],
   "source": [
    "times_numpy = np.array(times)\n",
    "timet = np.cumsum(times_numpy)"
   ]
  },
  {
   "cell_type": "code",
   "execution_count": 10,
   "id": "0d2e76b4",
   "metadata": {},
   "outputs": [
    {
     "data": {
      "image/png": "[encoded data removed]",
      "text/plain": [
       "<Figure size 432x288 with 1 Axes>"
      ]
     },
     "metadata": {
      "needs_background": "light"
     },
     "output_type": "display_data"
    }
   ],
   "source": [
    "plt.plot(timet, history.history['loss'])\n",
    "plt.grid('on')\n",
    "plt.xlabel('Tiempo')\n",
    "plt.ylabel('Tiempo por epoch')\n",
    "plt.show()"
   ]
  },
  {
   "cell_type": "markdown",
   "id": "fa617846",
   "metadata": {},
   "source": [
    "## Tiempo - Cuenta de aciertos"
   ]
  },
  {
   "cell_type": "code",
   "execution_count": 11,
   "id": "a140c560",
   "metadata": {},
   "outputs": [
    {
     "data": {
      "image/png": "[encoded data removed]",
      "text/plain": [
       "<Figure size 432x288 with 1 Axes>"
      ]
     },
     "metadata": {
      "needs_background": "light"
     },
     "output_type": "display_data"
    }
   ],
   "source": [
    "plt.plot(timet, history.history['accuracy'])\n",
    "plt.grid('on')\n",
    "plt.xlabel('Tiempo')\n",
    "plt.ylabel('Número de aciertos')\n",
    "plt.show()"
   ]
  },
  {
   "cell_type": "code",
   "execution_count": null,
   "id": "0f7020c1",
   "metadata": {},
   "outputs": [],
   "source": []
  }
 ],
 "metadata": {
  "kernelspec": {
   "display_name": "Python 3 (ipykernel)",
   "language": "python",
   "name": "python3"
  },
  "language_info": {
   "codemirror_mode": {
    "name": "ipython",
    "version": 3
   },
   "file_extension": ".py",
   "mimetype": "text/x-python",
   "name": "python",
   "nbconvert_exporter": "python",
   "pygments_lexer": "ipython3",
   "version": "3.10.0"
  }
 },
 "nbformat": 4,
 "nbformat_minor": 5
}
